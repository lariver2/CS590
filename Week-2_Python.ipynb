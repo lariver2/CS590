{
 "cells": [
  {
   "cell_type": "markdown",
   "metadata": {},
   "source": [
    "#What is six to the power of three?"
   ]
  },
  {
   "cell_type": "code",
   "execution_count": 1,
   "metadata": {},
   "outputs": [
    {
     "data": {
      "text/plain": [
       "216"
      ]
     },
     "execution_count": 1,
     "metadata": {},
     "output_type": "execute_result"
    }
   ],
   "source": [
    "6**3"
   ]
  },
  {
   "cell_type": "markdown",
   "metadata": {},
   "source": [
    "#Create a list called peanut_weight with the following data points:"
   ]
  },
  {
   "cell_type": "code",
   "execution_count": 31,
   "metadata": {},
   "outputs": [
    {
     "name": "stdout",
     "output_type": "stream",
     "text": [
      "[89.4, 78.2, 91.4, 95.2, 105.5]\n"
     ]
    }
   ],
   "source": [
    "peanut_weight = [89.4,78.2,91.4,95.2,105.5]\n",
    "print(peanut_weight)"
   ]
  },
  {
   "cell_type": "markdown",
   "metadata": {},
   "source": [
    "#Print the first, third and fifth peanut weights in the peanut_weight list"
   ]
  },
  {
   "cell_type": "code",
   "execution_count": 14,
   "metadata": {},
   "outputs": [
    {
     "name": "stdout",
     "output_type": "stream",
     "text": [
      "89.4 91.4 105.5\n"
     ]
    }
   ],
   "source": [
    "print(peanut_weight[0], peanut_weight[2], peanut_weight[4])"
   ]
  },
  {
   "cell_type": "markdown",
   "metadata": {},
   "source": [
    "#Create a dictionary using the following names in order of the values that appear in peanut_weight and print the items in the dictionary"
   ]
  },
  {
   "cell_type": "code",
   "execution_count": 45,
   "metadata": {},
   "outputs": [
    {
     "name": "stdout",
     "output_type": "stream",
     "text": [
      "dict_items([('Sullivan', 89.4), ('Bailey', 78.2), ('Bailey II', 91.4), ('Emery', 95.2), ('Wynne', 105.5)])\n"
     ]
    }
   ],
   "source": [
    "peanut_weight = {'Sullivan':89.4, 'Bailey':78.2, 'Bailey II':91.4, 'Emery':95.2, 'Wynne':105.5}\n",
    "print(peanut_weight.items())"
   ]
  },
  {
   "cell_type": "markdown",
   "metadata": {},
   "source": [
    "#Which peanut cultivar has the largest seed weight? Hint: Use the built-in Python function max()"
   ]
  },
  {
   "cell_type": "code",
   "execution_count": 43,
   "metadata": {},
   "outputs": [
    {
     "data": {
      "text/plain": [
       "('Wynne', 105.5)"
      ]
     },
     "execution_count": 43,
     "metadata": {},
     "output_type": "execute_result"
    }
   ],
   "source": [
    "peanut_weight = {'Sullivan':89.4, 'Bailey':78.2, 'Bailey II':91.4, 'Emery':95.2, 'Wynne':105.5}\n",
    "max(peanut_weight.items())"
   ]
  },
  {
   "cell_type": "markdown",
   "metadata": {},
   "source": [
    "#Print the statement below using the following variables"
   ]
  },
  {
   "cell_type": "code",
   "execution_count": 52,
   "metadata": {},
   "outputs": [
    {
     "name": "stdout",
     "output_type": "stream",
     "text": [
      "Wynne is the largest cultivar weighing 105.5 grams per 100 seeds\n"
     ]
    }
   ],
   "source": [
    "Cultivar = 'Wynne'\n",
    "Size = 105.5\n",
    "print ('%s is the largest cultivar weighing %s grams per 100 seeds'%(Cultivar,Size))"
   ]
  }
 ],
 "metadata": {
  "kernelspec": {
   "display_name": "Python 3",
   "language": "python",
   "name": "python3"
  },
  "language_info": {
   "codemirror_mode": {
    "name": "ipython",
    "version": 3
   },
   "file_extension": ".py",
   "mimetype": "text/x-python",
   "name": "python",
   "nbconvert_exporter": "python",
   "pygments_lexer": "ipython3",
   "version": "3.7.3"
  }
 },
 "nbformat": 4,
 "nbformat_minor": 2
}
